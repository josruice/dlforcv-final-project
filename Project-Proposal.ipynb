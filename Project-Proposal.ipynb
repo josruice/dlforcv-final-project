{
 "cells": [
  {
   "cell_type": "markdown",
   "metadata": {},
   "source": [
    "# Deep Learning for Computer Vision:  Final Project"
   ]
  },
  {
   "cell_type": "markdown",
   "metadata": {},
   "source": [
    "## Computer Science: COMS W 4995 004"
   ]
  },
  {
   "cell_type": "markdown",
   "metadata": {},
   "source": [
    "### Proposal: March 21, 2017\n",
    "### Presentations: April 20, 25, and 27, 2017\n",
    "### Report: April 27, 2017"
   ]
  },
  {
   "cell_type": "markdown",
   "metadata": {},
   "source": [
    "### Project Overview"
   ]
  },
  {
   "cell_type": "markdown",
   "metadata": {},
   "source": [
    "The final project is one of the most important and, hopefully, exciting components of the course. You will have the opportunity to develop a deep learning system of your own choosing. \n",
    "You are free to select whatever framework (Tensorflow, Theano, Caffe) or wrapper (Keras, TFLearn) you like, but you need create a report on your project in a Jupyter notebook. You are also free build on publically available models and code, but your report must clearly give attribution for the work of others and must clearly delineate your contributions. "
   ]
  },
  {
   "cell_type": "markdown",
   "metadata": {
    "collapsed": true
   },
   "source": [
    "### Project Proposal"
   ]
  },
  {
   "cell_type": "markdown",
   "metadata": {},
   "source": [
    "The project description should include the title of the project, participants, a description of the objectives of the project, and a plan for how the project will be completed. The description of the objectives should include modest predictions of the success of the project. The plan for completion should include a description of the training data and how it will be obtained, a discussion of what deep learning framework will be used and why, and a rough description of the planned network architecture.\n",
    "\n",
    "You are permitted to work together on a project in groups of two or three, but group size must not exceed three participants.  For group projects there must be a clearly delineated division of labor: you should state in the project description and project report who was responsible for which portion of the project. Each student must hand in a separate report. (Students will not necessarily get the same grade for the same project.)\n",
    "\n",
    "You should mention whether you are simply re-implementing what others have done before but applying to new data or whether you are attempting to do something new to the best of your knowledge. Creative and original projects will be judged more kindly than those that are rehashing something in the existing literature. And projects that include a component in which data is acquired/curated into training and validation sets will be veiwed more favorably than those that simply download an existing data set such as CIFAR-100.\n",
    "\n",
    "As this is a computer vision course it is expected that your data will be visual, but excpetions might be made if the student is enthusiatic and persuasive enough. The most straightforward project would be to build a system that classifies images into catogories. A more difficult project might be to build a system that detects and localizes a type of object within an image. A still more complicated project might involve joining a ConvNet with an LSTM for a problem (like image captioning) that requires vision and language. But again, creative and originnal projects will be judged more kindly.  \n",
    "\n",
    "It is important to scope your project so that you get some working results. Project reports that say \"I tried this and this but nothing seemed to work...\" are discouraged. \n",
    "Above all, you should demonstrate end-to-end fluency in the basics of deep learning. \n",
    "\n",
    "I cannot wait to see the results. Good luck!"
   ]
  },
  {
   "cell_type": "markdown",
   "metadata": {},
   "source": [
    "### Project Presentations"
   ]
  },
  {
   "cell_type": "markdown",
   "metadata": {},
   "source": [
    "\n",
    "To allow students to present their work in three class periods, each student will have only 3 minutes, not a second more. We will be strict about the timing, so you should practice your presentation. The key here is to get across three things: what you did, how you did it, and how well it worked. Students working in groups of two will get 6 minutes and groups of three will get 9 minutes. \n"
   ]
  },
  {
   "cell_type": "markdown",
   "metadata": {},
   "source": [
    "### Project Reports"
   ]
  },
  {
   "cell_type": "markdown",
   "metadata": {},
   "source": [
    "The report should be done as a Jupyter Notebook. The report should be a complete description of the objectives of the work, the methods used to solve the problem, experimental evidence of a working system, the code, and clear delineation of what you have done vs. what you are leveraging that others have done. If you have used the work of others YOU MUST INCLUDE ATTRIBUTION by citing this work inline and as part of a \"bibliography\" at the end. You should describe what worked, what did not, and why. If you are working in a group you need to submit your own report and this report should be clear about what your individual contribution was.  "
   ]
  },
  {
   "cell_type": "markdown",
   "metadata": {
    "collapsed": true
   },
   "source": [
    "# Proposal"
   ]
  },
  {
   "cell_type": "markdown",
   "metadata": {},
   "source": [
    "- Title of the project: **Frictionless product categorization**\n",
    "- Participant: Jose Vicente Ruiz Cepeda (jr3660)\n",
    "- Context: I am the cofounder of Relendo, a peer to peer rental platform where users upload products that other users can rent (think Airbnb but with goods like high-end cameras, tools, sports equipment...). One of the things users have to do when they upload a product is to take a picture of it, and then select the category (and, sometimes, subcategory) it belongs to. A Neural Network could completely avoid this step, if it were able to select the category just based on the image(s) uploaded by the user. Although this would be enough to create value, the Neural Network could also recognize the object in the images and give this information to another system that would return information of similar products that has been uploaded and that are successful, so that the user can have a reference in terms of wording for the title/description, price per day, etc.\n",
    "- Objectives:\n",
    "  - 1: Build a Neural Network that is able to classify a product image in its correct category 80% of the times.\n",
    "  - 2: Build a Neural Network that is able to detect the product in the image with a 50% acurracy.\n",
    "  - 3 (probably for the future): Build a Neural Network that is able to learn the features of the different products from their images.\n",
    "- Plan:\n",
    "  - 1: First, extract, clean and curate the dataset of the images already uploaded by users. As of today (March 21st) it is composed of almost 12,000 products with more than 18,000 images. Then, design and implement a Neural Network that is able to categorize an image in one of the eight available categories in Relendo: photography and video, sports, electronics, tools, events, musical instruments, caravans, and others (the default one), with an accuracy of, at least, 80% in the test set.\n",
    "  - 2: Create another dataset using the titles of the products splitted by spaces as labels for the images. Then, design and implement a Neural Network that is able to infer this labels, which will represent the specific products from the images. This information could later be used to help the user with the uploading process.\n",
    "  - 3 (probably for the future): design and implement a new network that will perform Unsupervised Feature Learning over the images, so that the features can later be used to find clusters of products. This would make easy to detect when a certain type of product is frequent enough to be its own category/subcategory.\n",
    "- Dataset: the set of images uploaded by the users along with their products information to www.relendo.com.\n",
    "- Deep Learning framework: I will start using Keras because it is easier to use, with TensorFlow as backend, since it has the advantage of being easy to deploy in production environments.\n",
    "- Deep Learning architecture: I will have to try different architectures, but I am pretty sure that all of them will be sequential and will contain several convolutional layers that will connect to dense layers by the end."
   ]
  },
  {
   "cell_type": "markdown",
   "metadata": {},
   "source": []
  },
  {
   "cell_type": "markdown",
   "metadata": {},
   "source": []
  },
  {
   "cell_type": "markdown",
   "metadata": {},
   "source": []
  },
  {
   "cell_type": "markdown",
   "metadata": {},
   "source": []
  },
  {
   "cell_type": "markdown",
   "metadata": {},
   "source": []
  },
  {
   "cell_type": "markdown",
   "metadata": {},
   "source": []
  },
  {
   "cell_type": "markdown",
   "metadata": {},
   "source": []
  },
  {
   "cell_type": "markdown",
   "metadata": {},
   "source": []
  },
  {
   "cell_type": "markdown",
   "metadata": {},
   "source": []
  }
 ],
 "metadata": {
  "kernelspec": {
   "display_name": "Python 2",
   "language": "python",
   "name": "python2"
  },
  "language_info": {
   "codemirror_mode": {
    "name": "ipython",
    "version": 2
   },
   "file_extension": ".py",
   "mimetype": "text/x-python",
   "name": "python",
   "nbconvert_exporter": "python",
   "pygments_lexer": "ipython2",
   "version": "2.7.12"
  }
 },
 "nbformat": 4,
 "nbformat_minor": 2
}
